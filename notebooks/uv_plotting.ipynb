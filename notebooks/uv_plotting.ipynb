{
 "cells": [
  {
   "cell_type": "code",
   "execution_count": null,
   "id": "1e634178-3a82-402b-9fd1-6ba9c659f712",
   "metadata": {},
   "outputs": [],
   "source": [
    "import os\n",
    "\n",
    "import numpy as np\n",
    "import pandas as pd\n",
    "import matplotlib.pyplot as plt\n",
    "\n",
    "from copy import deepcopy\n",
    "import seaborn as sns\n",
    "\n",
    "from ami_utils import parse as pa"
   ]
  },
  {
   "cell_type": "code",
   "execution_count": null,
   "id": "4f9308dd-113f-4d26-bebf-513f23896f3d",
   "metadata": {},
   "outputs": [],
   "source": [
    "#TODO: Check parser get the first line of text file.\n",
    "# exps = ['LUB114', 'LUB112', 'base_check_EHMebip']\n",
    "# exps = ['LUB114']\n",
    "exps = ['LUB150', 'LUB151']\n",
    "\n",
    "data = pa.get_data(pa.path_constructor('uv', *exps), 'uv')\n",
    "data"
   ]
  },
  {
   "cell_type": "code",
   "execution_count": null,
   "id": "84dfd22b-9f6a-4427-9d5d-472e7fe265d7",
   "metadata": {},
   "outputs": [],
   "source": [
    "%matplotlib qt\n",
    "data[data.titrant == '90']\n",
    "sns.lineplot(data[data.titrant == '0'], x=\"Wavelength nm.\", y=\"Abs.\", hue='name')"
   ]
  },
  {
   "cell_type": "code",
   "execution_count": null,
   "id": "58956db9-db8c-41b2-9bf9-6d214667eb2a",
   "metadata": {},
   "outputs": [],
   "source": [
    "data_base_check = data[data.name == 'base_check_EHMebip']\n",
    "data = data[data.name != 'base_check_EHMebip']\n",
    "data.titrant.unique()"
   ]
  },
  {
   "cell_type": "markdown",
   "id": "f7b34424-7410-43fc-b66b-bc87a6a23f82",
   "metadata": {},
   "source": [
    "### Plot LUB112"
   ]
  },
  {
   "cell_type": "code",
   "execution_count": null,
   "id": "aeef2866-31c2-4d89-b5ae-d9a842aada7c",
   "metadata": {},
   "outputs": [],
   "source": [
    "%matplotlib qt\n",
    "ax = sns.lineplot(data=data, x=\"Wavelength nm.\", y=\"Abs.\", hue='titrant')\n",
    "ax.legend_.set_title(None)\n",
    "ax.spines[['right', 'top']].set_visible(False)"
   ]
  },
  {
   "cell_type": "code",
   "execution_count": null,
   "id": "8740e3b0-fb79-48da-be46-328bbcf5f809",
   "metadata": {},
   "outputs": [],
   "source": [
    "data_ehmebip_switch = data[np.isin(data.titrant, ['0', 'ini', '5minLED', '5minTLC'])]\n",
    "data_complex_switch_init = data[np.isin(data.titrant, ['prior', 'Baseline'])]\n",
    "data_complex_switch_ts = data[~np.isin(data.titrant, ['5minLED', '5minTLC', 'priori', '110zn', '115zn', '120zn', '130zn', 'ini', '0', 'Baseline'])]"
   ]
  },
  {
   "cell_type": "code",
   "execution_count": null,
   "id": "22c11260-b1f6-42c3-b5e0-cb3aa175f374",
   "metadata": {},
   "outputs": [],
   "source": [
    "%matplotlib qt\n",
    "sns.lineplot(data=data_complex_switch_ts, x=\"Wavelength nm.\", y=\"Abs.\", hue='titrant')\n",
    "ax = sns.lineplot(data=data_complex_switch_init, x=\"Wavelength nm.\", y=\"Abs.\", hue='titrant', ls='dashed')\n",
    "\n",
    "leg = ax.legend()\n",
    "leg_lines = leg.get_lines()\n",
    "for leg_line in [leg_lines[-1], leg_lines[-2]]:\n",
    "    leg_line.set_linestyle(\"--\")\n",
    "\n",
    "ax.legend_.set_title(None)\n",
    "ax.spines[['right', 'top']].set_visible(False)"
   ]
  },
  {
   "cell_type": "markdown",
   "id": "e5868576-4643-4a9f-8c14-33d73fd6ecf4",
   "metadata": {},
   "source": [
    "### Plot EHMebip base check"
   ]
  },
  {
   "cell_type": "code",
   "execution_count": null,
   "id": "4f52c0ee-b3b2-4ce9-8f34-d5d7271ae7a9",
   "metadata": {},
   "outputs": [],
   "source": [
    "%matplotlib qt\n",
    "\n",
    "ax = sns.lineplot(data=data_base_check, x=\"Wavelength nm.\", y=\"Abs.\", hue='titrant')\n",
    "ax.legend_.set_title(None)\n",
    "ax.spines[['right', 'top']].set_visible(False)"
   ]
  },
  {
   "cell_type": "code",
   "execution_count": null,
   "id": "d8d5721c-6664-400c-bb98-6f8085d9e213",
   "metadata": {},
   "outputs": [],
   "source": [
    "data_complex_switch_ts.pivot(index='Wavelength nm.', columns='titrant', values='Abs.').to_csv('init_complex_switch')"
   ]
  },
  {
   "cell_type": "code",
   "execution_count": null,
   "id": "75f10fa7-7a8a-4753-8bb9-8ebdb21058e9",
   "metadata": {},
   "outputs": [],
   "source": [
    "data_complex_switch_ts.pivot(index='Wavelength nm.', columns='titrant', values='Abs.').plot()"
   ]
  },
  {
   "cell_type": "code",
   "execution_count": null,
   "id": "48e2fe57-3a3a-4646-8502-09d3163a574d",
   "metadata": {},
   "outputs": [],
   "source": []
  }
 ],
 "metadata": {
  "kernelspec": {
   "display_name": "Python 3 (ipykernel)",
   "language": "python",
   "name": "python3"
  },
  "language_info": {
   "codemirror_mode": {
    "name": "ipython",
    "version": 3
   },
   "file_extension": ".py",
   "mimetype": "text/x-python",
   "name": "python",
   "nbconvert_exporter": "python",
   "pygments_lexer": "ipython3",
   "version": "3.11.9"
  }
 },
 "nbformat": 4,
 "nbformat_minor": 5
}
