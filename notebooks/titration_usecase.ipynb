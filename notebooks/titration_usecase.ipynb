{
 "cells": [
  {
   "cell_type": "code",
   "execution_count": null,
   "id": "ced6d6df",
   "metadata": {},
   "outputs": [],
   "source": [
    "import os\n",
    "import sys\n",
    "import re\n",
    "\n",
    "import numpy as np\n",
    "import pandas as pd\n",
    "import matplotlib as mpl\n",
    "import matplotlib.pyplot as plt\n",
    "import seaborn as sns\n",
    "from copy import deepcopy\n",
    "\n",
    "import init_titration\n",
    "from titration import util as utl\n",
    "from mfethuls import parse as pa"
   ]
  },
  {
   "cell_type": "markdown",
   "id": "bc150cbb",
   "metadata": {},
   "source": [
    "### Generate Titration from config"
   ]
  },
  {
   "cell_type": "code",
   "execution_count": null,
   "id": "5e812f80",
   "metadata": {},
   "outputs": [],
   "source": [
    "# exp_names = ['LUB005', 'LUB100', 'LUB099', 'LUB055'] # Different metals (Zn, Eu, Cu) [all OTf] and endpoint\n",
    "# exp_names = ['LUB005', 'LUB045', 'LUB067'] # Different metals (Zn, Eu, Cu) [all OTf] and order_complex=2\n",
    "exp_names = ['LUB005', 'LUB021', 'LUB038', 'LUB192'] # Acids in Zn + TEAC\n",
    "# exp_names = ['LUB005', 'LUB045', 'LUB055', 'LUB067', 'LUB157']\n",
    "# exp_names = ['LUB005', 'LUB099', 'LUB045']\n",
    "# exp_names = ['LUB045', 'LUB005', 'LUB157', 'LUB067', 'LUB055'] # Mebip decomplex hcl\n",
    "# exp_names = ['LUB045', 'LUB005', 'LUB055'] # Mebip complex metals"
   ]
  },
  {
   "cell_type": "code",
   "execution_count": null,
   "id": "a8b1d02d",
   "metadata": {},
   "outputs": [],
   "source": [
    "init_titration.init_titrations(exp_names)"
   ]
  },
  {
   "cell_type": "code",
   "execution_count": null,
   "id": "0084a732",
   "metadata": {},
   "outputs": [],
   "source": [
    "dict_titrants_exps = init_titration.dict_titrants_exps.copy()\n",
    "dict_titrations_exps = deepcopy(init_titration.dict_titrations_exps)"
   ]
  },
  {
   "cell_type": "code",
   "execution_count": null,
   "id": "51659a4c",
   "metadata": {},
   "outputs": [],
   "source": [
    "dict_titrants_exps"
   ]
  },
  {
   "cell_type": "code",
   "execution_count": null,
   "id": "23465450",
   "metadata": {},
   "outputs": [],
   "source": [
    "for k, v in dict_titrations_exps.items():\n",
    "    print(f'\\n\\n{k}:\\n')\n",
    "    for t in v[0]:\n",
    "        print(t.df_params)"
   ]
  },
  {
   "cell_type": "markdown",
   "id": "2fa3431c",
   "metadata": {},
   "source": [
    "### Import data associated"
   ]
  },
  {
   "cell_type": "code",
   "execution_count": null,
   "id": "ca8eddd0",
   "metadata": {},
   "outputs": [],
   "source": [
    "#TODO: Check parser get the first line of text file.\n",
    "\n",
    "print(exp_names)\n",
    "exps_reps = utl.get_exp_reps(exp_names)\n",
    "data = pa.get_data(pa.path_constructor('uv', *exps_reps), 'uv')\n",
    "data"
   ]
  },
  {
   "cell_type": "markdown",
   "id": "e4d2716a",
   "metadata": {},
   "source": [
    "### Distinguish from different titrations and merge titration params with data"
   ]
  },
  {
   "cell_type": "code",
   "execution_count": null,
   "id": "0a54994a-df89-4d50-919f-38d8de097078",
   "metadata": {},
   "outputs": [],
   "source": [
    "new_data = utl.merge_data_titration_params(data, dict_titrations_exps)\n",
    "new_data"
   ]
  },
  {
   "cell_type": "code",
   "execution_count": null,
   "id": "dbc13e24-e7ad-43bf-abb9-bad879b1c4a4",
   "metadata": {},
   "outputs": [],
   "source": [
    "new_data.titrant.unique()"
   ]
  },
  {
   "cell_type": "markdown",
   "id": "dea3d5d8",
   "metadata": {},
   "source": [
    "### Generate peak tracking data"
   ]
  },
  {
   "cell_type": "code",
   "execution_count": null,
   "id": "c731556c-44e0-4f57-b920-8b55da1b9c9a",
   "metadata": {},
   "outputs": [],
   "source": [
    "# 350 nm for Eu\n",
    "# 335 nm for Zn\n",
    "# 345 nm for Cu\n",
    "# 342 nm for Mg bidentate\n",
    "# 345 nm for Cu bidentate\n",
    "# 350 nm for Zn bidentate\n",
    "# 350/495 nm for Fe2+ bidentate\n",
    "# 555 nm for RhodB\n",
    "# wl_0=313\n",
    "dict_df = utl.tracking_df(new_data, [335], exps_reps, wl_0=313, complex_tit=True)\n",
    "dict_df"
   ]
  },
  {
   "cell_type": "code",
   "execution_count": null,
   "id": "e22bdf3a-bc89-4ea3-abd2-810ab161b6c2",
   "metadata": {},
   "outputs": [],
   "source": [
    "df = utl.combine_track_data(new_data, dict_df)\n",
    "df"
   ]
  },
  {
   "cell_type": "code",
   "execution_count": null,
   "id": "b73a822e-768c-4dc7-9064-1816d3ca8750",
   "metadata": {},
   "outputs": [],
   "source": [
    "if False:\n",
    "    # Write this into the back - perhaps\n",
    "    def remove_unrelated_wl_track(df, labels_mlct):\n",
    "        for name, mlct in labels_MLCT.items():\n",
    "            df.drop(df.loc[(df.name.str.contains(name)) & ~(df.wl_track == str(mlct))].index, inplace=True)\n",
    "        df.reset_index(drop=True)\n",
    "        return df\n",
    "    \n",
    "    # Name and associated mlct band wl for experiment\n",
    "    # labels_MLCT = dict(zip(['LUB005', 'LUB045', 'LUB055', 'LUB067', 'LUB157'], [335, 350, 345, 345, 350]))\n",
    "    # labels_MLCT = dict(zip(['LUB005', 'LUB193', 'LUB195'], [335, 350, 350])) # Mebip vs bidentate hcl\n",
    "    # labels_MLCT = dict(zip(['LUB190', 'LUB194', 'LUB150'], [350, 350, 345])) # Mebip vs bidentate complex\n",
    "    labels_MLCT = dict(zip(['LUB005', 'LUB045', 'LUB055', 'LUB067', 'LUB157', 'LUB193', 'LUB195'], \n",
    "                           [335, 350, 345, 345, 350, 350, 350])) # All Mebip and MBP decomplex\n",
    "    df = remove_unrelated_wl_track(df, labels_MLCT)"
   ]
  },
  {
   "cell_type": "markdown",
   "id": "3e7fbb2a-1cdb-47fe-be37-13041527cca0",
   "metadata": {},
   "source": [
    "### Visualise Data"
   ]
  },
  {
   "cell_type": "markdown",
   "id": "f865aa5c-86b8-461a-8b98-625a12485844",
   "metadata": {},
   "source": [
    "##### Line Graphs"
   ]
  },
  {
   "cell_type": "code",
   "execution_count": null,
   "id": "78d871d0-eae5-499b-a1cb-168c66c5804c",
   "metadata": {},
   "outputs": [],
   "source": [
    "# Legend used for graph - super manuel\n",
    "\n",
    "# legend_labels = ['Eu(EH-Mebip)$_{2}$', 'Eu(EH-Mebip)$_{2}$ - Excees Eu$^{3+}$', 'Eu(EH-Mebip)$_{3}$',]\n",
    "# legend_labels = ['Zn(EH-Mebip)$_{2}$', 'Eu(EH-Mebip)$_{2}$', 'Cu(EH-Mebip)$_{2}$']\n",
    "# legend_labels = ['Zn(EH-Mebip)$_{2}$', 'Cu(EH-Mebip)', 'Eu(EH-Mebip)$_{2}$ - Excees Eu$^{3+}$']\n",
    "legend_labels = ['HCl', 'TEAC', 'TFSA', 'TFA']\n",
    "# legend_labels = ['Zn(EH-Mebip)$_{2}$', 'Eu(EH-Mebip)$_{2}$', 'Cu(EH-Mebip)$_{2}$', 'Cu(EH-Mebip)', 'Eu(EH-Mebip)$_{3}$']\n",
    "# legend_labels = ['Eu(EH-Mebip)$_{2}$', 'Zn(EH-Mebip)$_{2}$', 'Eu(EH-Mebip)$_{3}$', 'Cu(EH-Mebip)', \n",
    "                 # 'Cu(EH-Mebip)$_{2}$']\n",
    "# legend_labels = ['Eu(EH-Mebip)$_{2}$']\n",
    "# legend_labels = ['Zn(EH-Mebip)$_{2}$']\n",
    "# legend_labels = ['Cu(EH-Mebip)$_{2}$']\n",
    "# legend_labels = ['Zn(OTf)$_{2}$']\n",
    "# legend_labels = ['Eu(OTf)$_{3}$', 'Zn(OTf)$_{2}$', 'Cu(OTf)$_{2}$']\n",
    "# legend_labels = ['Fe(EH-MBP)$_{3}$', 'Zn(EH-MBP)$_{3}$']\n",
    "# legend_labels = ['Zn(OTf)$_{2}$', 'Fe(OTf)$_{3}$', 'Cu(OTf)$_{2}$']\n",
    "# legend_labels = ['Fe(II)(OTf)$_{2}$', 'Fe(III)(OTf)$_{3}$']\n",
    "# legend_labels = ['350 nm', '495 nm']\n",
    "# legend_labels = ['HCl']\n",
    "# legend_labels = ['100 min', '5 min']\n",
    "\n",
    "# Designate grouper (to group titrations according to host or guest)\n",
    "grouper = 'host_name'"
   ]
  },
  {
   "cell_type": "code",
   "execution_count": null,
   "id": "ecbcb4fc-f69a-4b4d-b788-bca2925a4840",
   "metadata": {
    "scrolled": true
   },
   "outputs": [],
   "source": [
    "# Plot in seperate figures\n",
    "# %matplotlib qt\n",
    "# BG_WHITE = \"#fafaf5\"\n",
    "with sns.plotting_context(\"paper\", font_scale=1.75, \n",
    "                          rc={\n",
    "                              \"lines.linewidth\": 2, 'lines.markersize': 8, 'patch.linewidth': 1.825\n",
    "                          }):\n",
    "    \n",
    "    # Set colors for graph\n",
    "    PalSet = sns.color_palette('deep', len(df.name.unique()))\n",
    "    m_colors = PalSet.as_hex()\n",
    "    m_colors = ['#ADE8F4', '#48CAE4', '#0096C7', '#0077B6', '#023E8A', '#96b1ad', '#439088'] # Mebip and MBP\n",
    "    # m_colors = ['#96b1ad', '#439088', '#005852'] # MBP only\n",
    "    \n",
    "    # Plot data of interest\n",
    "    to_plot=df[['g_h', 'host_name', 'guest_name', 'name', 'value', 'rank', 'wl_track']].drop_duplicates()\n",
    "    to_plot.loc[:, 'name'] = to_plot.loc[:, 'name'].str.split('_').str[0]\n",
    "    to_plot.sort_values(by='name', key=lambda column: column.map(lambda e: exp_names.index(e)), inplace=True) # Sort dataframe according to index provided\n",
    "\n",
    "    for (exp, group) in to_plot.groupby([grouper], as_index=False, sort=False):\n",
    "        print(exp)\n",
    "        print(group.name.unique())\n",
    "        print(group)\n",
    "        \n",
    "        fig, ax = plt.subplots() # Set a size once deteremined !\n",
    "        # fig.patch.set_facecolor(BG_WHITE)\n",
    "        # ax.set_facecolor(BG_WHITE)\n",
    "\n",
    "\n",
    "        ax.set_xlabel('[Guest]:[Zn(EH-Mebip)$_{2}$]')\n",
    "        ax.set_ylabel(r'$\\Delta\\left(\\frac{A_{MLCT}}{A_{\\pi\\rightarrow\\pi^{*}}}\\right)$', fontsize=20)\n",
    "        ax.spines[['right', 'top']].set_visible(False)\n",
    "        # ax.spines[['left', 'right', 'top']].set_visible(False)\n",
    "        # ax.spines[['bottom']].set_linewidth(2)\n",
    "        # ax.tick_params(length=4, axis='both')\n",
    "        \n",
    "        # Tick paramters\n",
    "        # ax.xaxis.set_major_locator(MultipleLocator(0.5))\n",
    "        # Metal regime\n",
    "        # ax.xaxis.set_major_locator(MultipleLocator(0.1))\n",
    "        # ax.xaxis.set_minor_locator(mpl.ticker.AutoMinorLocator(2))\n",
    "        # ax.yaxis.set_minor_locator(mpl.ticker.AutoMinorLocator(2))\n",
    "       \n",
    "        # acid regime\n",
    "        ax.xaxis.set_major_locator(mpl.ticker.MultipleLocator(1))\n",
    "        ax.xaxis.set_minor_locator(mpl.ticker.AutoMinorLocator(2))\n",
    "        ax.yaxis.set_minor_locator(mpl.ticker.AutoMinorLocator(2))\n",
    "        # ax.tick_params(length=4, axis='both')\n",
    "        # ax.tick_params(length=2, axis='both', which='minor')\n",
    "        \n",
    "        # ax.grid(axis='y', linestyle=':', lw=1, color='grey')\n",
    "        # ax.tick_params(axis='y',length=0)\n",
    "        ax.set_axisbelow(True)\n",
    "\n",
    "        # Verticle lines indicating orders of complex for metal titrations\n",
    "        # for el in [0.333, 0.5]:\n",
    "        #     ax.axvline(x=el, ls='--', lw=1.5, color='black', alpha=0.4)\n",
    "        # if group.host_name.unique()[0] == 'EH-Mebip':\n",
    "        #     for el in [0.333, 0.5, 1]:\n",
    "        #         ax.axvline(x=el, ls='--', lw=1.5, color='black', alpha=0.4)\n",
    "        \n",
    "        # lnplt = sns.lineplot(group, x=\"g_h\", y=\"value\", hue='name', ax=ax, palette='deep', legend=True)\n",
    "        lnplt = sns.lineplot(group, x=\"g_h\", y=\"value\", hue='name', hue_order=exp_names, ax=ax, palette=m_colors, legend=True)\n",
    "        \n",
    "        # Legend - manual if legend required :(\n",
    "        # new_title = 'Irradiation Time'\n",
    "        bbox_to_anchor=(0.55, 0.45, 0.5, 0.5)\n",
    "        # ax.legend(edgecolor='w', framealpha=0, loc='best')\n",
    "        ax.legend(edgecolor='w', framealpha=0, bbox_to_anchor=bbox_to_anchor)\n",
    "        # sns.move_legend(ax, \"upper left\", bbox_to_anchor=(1, 1))\n",
    "        # lnplt.legend_.set_title(new_title)\n",
    "        # Replace labels\n",
    "        for text, label in zip(lnplt.legend_.texts, legend_labels):\n",
    "            text.set_text(label)\n",
    "        \n",
    "        # Scatter plot for hollow spheres - matplotlib\n",
    "        for (exp, group), col in zip(group.groupby(['name', 'guest_name', 'rank'], as_index=False, sort=False), m_colors):\n",
    "            group_mean = group.groupby('g_h', as_index=False).agg({'value':'mean'})\n",
    "            ax.scatter(group_mean.g_h, group_mean.value, edgecolors=col, facecolors=\"none\", alpha=0.7, label=exp)\n",
    "\n",
    "        fig.tight_layout()\n",
    "        print(fig.get_size_inches())"
   ]
  },
  {
   "cell_type": "markdown",
   "id": "68fc5859-9c07-4f7d-aa61-f2489ad98e5c",
   "metadata": {},
   "source": [
    "##### Spectra"
   ]
  },
  {
   "cell_type": "code",
   "execution_count": null,
   "id": "e6da1747-51f5-4e87-9b2d-0730fa40dde1",
   "metadata": {},
   "outputs": [],
   "source": [
    "%matplotlib qt\n",
    "# Plots each titration individually\n",
    "# Arange data and group plus plot\n",
    "\n",
    "# TODO: Change pallete, remove legend\n",
    "to_plot=df[['g_h', 'host_name', 'guest_name', 'name', 'Wavelength nm.', 'Abs.']].drop_duplicates()\n",
    "to_plot.loc[:, 'name'] = to_plot.loc[:, 'name'].str.split('_').str[0]\n",
    "\n",
    "with sns.plotting_context(\"paper\", font_scale=1.75,\n",
    "                          rc={\n",
    "                              \"lines.linewidth\": 1.75, 'lines.markersize': 6.5, 'patch.linewidth': 1.35\n",
    "                          }):\n",
    "\n",
    "    for (exp, group) in to_plot.groupby(['name', grouper], as_index=False, sort=False):\n",
    "        print(exp)\n",
    "        print(group)\n",
    "        if 'Eu' not in exp[0]:\n",
    "            group = group.loc[group['Wavelength nm.'].between(250, 600), :]\n",
    "            fig, ax = plt.subplots(1) # Set a size once deteremined !\n",
    "        \n",
    "            # Background colours\n",
    "            # BG_WHITE = \"#fafaf5\"\n",
    "            # fig.patch.set_facecolor(BG_WHITE)\n",
    "            # ax.set_facecolor(BG_WHITE)\n",
    "        \n",
    "            # Border params\n",
    "            ax.spines[['right', 'top']].set_visible(False)\n",
    "            # ax.spines[['bottom']].set_linewidth(2)\n",
    "            # ax.grid(axis='y', linestyle=':', lw=1, color='grey')\n",
    "            # ax.set_axisbelow(True)\n",
    "            \n",
    "            # axis params\n",
    "            ax.set_xlabel('Wavelength (nm)')\n",
    "            ax.set_ylabel('Absorbance (a.u.)')\n",
    "            ax.xaxis.set_minor_locator(AutoMinorLocator(2))\n",
    "            ax.yaxis.set_major_locator(MultipleLocator(0.2))\n",
    "            ax.yaxis.set_minor_locator(AutoMinorLocator(2))\n",
    "            # ax.tick_params(which=\"both\", bottom=True, top=True, left=True, right=True, direction=\"in\")\n",
    "            # ax.tick_params(which=\"both\", labelbottom=True, labeltop=False, labelleft=True, labelright=False, direction=\"in\")\n",
    "\n",
    "            \n",
    "            # Plot line graphs\n",
    "            sns.lineplot(data=group, \n",
    "                         x=\"Wavelength nm.\", y=\"Abs.\", hue='g_h', palette='flare', ax=ax, legend=False)\n",
    "            \n",
    "            # Colourbar \n",
    "            norm = plt.Normalize(group.g_h.min(), group.g_h.max())\n",
    "            sm = plt.cm.ScalarMappable(cmap='flare', norm=norm)\n",
    "            cbar = fig.colorbar(sm, shrink=0.7, cax=ax.inset_axes((0.85, 0.125, 0.025, 0.75)))\n",
    "            # cbar.ax.set_title(f'{exp[0]} eq.')\n",
    "            # cbar.ax.set_title(f'HCl eq.')\n",
    "            cbar.ax.set_title(f'Fe(III)(OTf)$_{2}$ eq.', pad=10)\n",
    "            # cbar.ax.set_title(f'Dipea eq.', pad=10)\n",
    "            \n",
    "            # ax.set_ylim(ax.get_ylim()[0], 0.84)\n",
    "            fig.tight_layout()"
   ]
  },
  {
   "cell_type": "code",
   "execution_count": null,
   "id": "d17fa9fe-ee75-44bc-b3eb-226194daab53",
   "metadata": {},
   "outputs": [],
   "source": [
    "# Plot spectra of complexed and decomplexed\n",
    "with sns.plotting_context(\"paper\"):\n",
    "    fig, (ax, ax1) = plt.subplots(1, 2, figsize=(13.33/2, 7.5/2.5))\n",
    "    ax.set_xlabel('Wavelength (nm)')\n",
    "    \n",
    "    # Remove right and top borders of plots\n",
    "    ax.spines[['right', 'top', 'left']].set_visible(False)\n",
    "    ax.spines[['bottom']].set_linewidth(2)\n",
    "    ax.tick_params(length=4, axis='x')\n",
    "    ax.grid(axis='y', linestyle=':', lw=1, color='grey')\n",
    "    ax.tick_params(axis='y',length=0)\n",
    "    ax.set_axisbelow(True)\n",
    "\n",
    "\n",
    "to_plot=df[['g_h', 'guest_name', 'name', 'Wavelength nm.', 'Abs.']].drop_duplicates()\n",
    "to_plot.loc[:, 'name'] = to_plot.loc[:, 'name'].str.split('_').str[0]\n",
    "# to_plot.pivot(index='Wavelength nm.', columns=['name', 'g_h'], values='Abs.')\n",
    "# Scatter plot for hollow spheres - matplotlib\n",
    "to_plot = to_plot[to_plot.name == 'LUB045']\n",
    "for (exp, group) in to_plot.groupby(['name', 'guest_name'], as_index=False):\n",
    "    fig, ax = plt.subplots(1)\n",
    "    sns.lineplot(data=group, x=\"Wavelength nm.\", y=\"Abs.\", hue='g_h')\n",
    "    # group_mean = group.groupby('g_h', as_index=False).agg({'value':'mean'})\n",
    "    # print(f'{exp} : {col}')\n",
    "    # ax.scatter(group_mean.g_h, group_mean.value, edgecolors=col, facecolors=\"none\", alpha=0.7, label=exp)\n",
    "# sns.lineplot(to_plot, x=\"Wavelength nm.\", y=\"Abs.\", hue='g_h', style='name')"
   ]
  }
 ],
 "metadata": {
  "kernelspec": {
   "display_name": "Python 3 (ipykernel)",
   "language": "python",
   "name": "python3"
  },
  "language_info": {
   "codemirror_mode": {
    "name": "ipython",
    "version": 3
   },
   "file_extension": ".py",
   "mimetype": "text/x-python",
   "name": "python",
   "nbconvert_exporter": "python",
   "pygments_lexer": "ipython3",
   "version": "3.11.9"
  }
 },
 "nbformat": 4,
 "nbformat_minor": 5
}
