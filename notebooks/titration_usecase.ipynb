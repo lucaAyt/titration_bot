{
 "cells": [
  {
   "cell_type": "code",
   "execution_count": null,
   "id": "ced6d6df",
   "metadata": {},
   "outputs": [],
   "source": [
    "import os\n",
    "import sys\n",
    "import re\n",
    "\n",
    "import numpy as np\n",
    "import pandas as pd\n",
    "import matplotlib as mpl\n",
    "import matplotlib.pyplot as plt\n",
    "import seaborn as sns\n",
    "from copy import deepcopy\n",
    "\n",
    "import init_titration\n",
    "from titration import util as utl\n",
    "from mfethuls import parse as pa     # Import your own parser if mfethuls not used"
   ]
  },
  {
   "cell_type": "markdown",
   "id": "bc150cbb",
   "metadata": {},
   "source": [
    "### Generate titrations from the config file"
   ]
  },
  {
   "cell_type": "code",
   "execution_count": null,
   "id": "5e812f80",
   "metadata": {},
   "outputs": [],
   "source": [
    "# Choose one of the two exp_name list to plot data. Comment out the one that is not of interest.\n",
    "\n",
    "# exp_names = ['LUB005', 'LUB021', 'LUB038', 'LUB192'] # Zn(EH-Mebip)2 decomplex with different ACIDS + TEAC\n",
    "exp_names = ['LUB045', 'LUB005', 'LUB157', 'LUB067', 'LUB055'] # Different METALS of MEBIP complex - decomplex with HCL\n",
    "\n",
    "which_data = 'metals' if 'LUB157' in exp_names else None # Allows for change in configuration for graphing"
   ]
  },
  {
   "cell_type": "code",
   "execution_count": null,
   "id": "a8b1d02d",
   "metadata": {},
   "outputs": [],
   "source": [
    "init_titration.init_titrations(exp_names)"
   ]
  },
  {
   "cell_type": "code",
   "execution_count": null,
   "id": "0084a732",
   "metadata": {},
   "outputs": [],
   "source": [
    "dict_titrants_exps = init_titration.dict_titrants_exps.copy()\n",
    "dict_titrations_exps = deepcopy(init_titration.dict_titrations_exps)\n",
    "dict_titrants_exps"
   ]
  },
  {
   "cell_type": "code",
   "execution_count": null,
   "id": "23465450",
   "metadata": {},
   "outputs": [],
   "source": [
    "# Show the dataframe housing all\n",
    "for k, v in dict_titrations_exps.items():\n",
    "    print(f'\\n\\n{k}:\\n')\n",
    "    for t in v[0]:\n",
    "        print(t.df_params)"
   ]
  },
  {
   "cell_type": "markdown",
   "id": "2fa3431c",
   "metadata": {},
   "source": [
    "### Import data associated with experiment"
   ]
  },
  {
   "cell_type": "code",
   "execution_count": null,
   "id": "ca8eddd0",
   "metadata": {},
   "outputs": [],
   "source": [
    "exps_reps = utl.get_exp_reps(exp_names)\n",
    "data = pa.get_data(pa.path_constructor('uv', *exps_reps), 'uv')\n",
    "data"
   ]
  },
  {
   "cell_type": "markdown",
   "id": "e4d2716a",
   "metadata": {},
   "source": [
    "### Distinguish from different titrations and merge titration params with data imported"
   ]
  },
  {
   "cell_type": "code",
   "execution_count": null,
   "id": "0a54994a-df89-4d50-919f-38d8de097078",
   "metadata": {},
   "outputs": [],
   "source": [
    "new_data = utl.merge_data_titration_params(data, dict_titrations_exps)\n",
    "new_data"
   ]
  },
  {
   "cell_type": "code",
   "execution_count": null,
   "id": "dbc13e24-e7ad-43bf-abb9-bad879b1c4a4",
   "metadata": {},
   "outputs": [],
   "source": [
    "new_data.titrant.unique()"
   ]
  },
  {
   "cell_type": "markdown",
   "id": "dea3d5d8",
   "metadata": {},
   "source": [
    "### Generate peak tracking data at specified wavelengths"
   ]
  },
  {
   "cell_type": "code",
   "execution_count": null,
   "id": "c731556c-44e0-4f57-b920-8b55da1b9c9a",
   "metadata": {},
   "outputs": [],
   "source": [
    "# wls=335 nm for Zn(EH-Mebip)2 [MLCT]\n",
    "# wl_0=313 for EH-Mebip [pi-pi*]\n",
    "# wls=[335, 350, 345, 345, 350, 350, 350] if metals chosen\n",
    "\n",
    "wls = [335, 350, 345] if which_data else [335]\n",
    "dict_df = utl.tracking_df(new_data, wls, exps_reps, wl_0=313, complex_tit=True)\n",
    "dict_df"
   ]
  },
  {
   "cell_type": "code",
   "execution_count": null,
   "id": "e22bdf3a-bc89-4ea3-abd2-810ab161b6c2",
   "metadata": {},
   "outputs": [],
   "source": [
    "# Combine tracking data with the original dataframe of experiment\n",
    "df = utl.combine_track_data(new_data, dict_df)\n",
    "df"
   ]
  },
  {
   "cell_type": "code",
   "execution_count": null,
   "id": "ea5ca196-99ae-40ae-9e64-a6d9baceddb1",
   "metadata": {},
   "outputs": [],
   "source": [
    "# For different metals only keep relevant MLCT peak tracks\n",
    "if which_data:\n",
    "    \n",
    "    # Name and associated mlct band wl for experiment\n",
    "    labels_MLCT = dict(zip(['LUB005', 'LUB045', 'LUB055', 'LUB067', 'LUB157'], \n",
    "                           [335, 350, 345, 345, 350])) # All Mebip complexes MLCT with different metals\n",
    "    \n",
    "    df = utl.remove_unrelated_wl_track(df, labels_MLCT)"
   ]
  },
  {
   "cell_type": "markdown",
   "id": "3e7fbb2a-1cdb-47fe-be37-13041527cca0",
   "metadata": {},
   "source": [
    "### Visualise Data"
   ]
  },
  {
   "cell_type": "markdown",
   "id": "f865aa5c-86b8-461a-8b98-625a12485844",
   "metadata": {},
   "source": [
    "#### Line Graphs: Wavelength Tracking"
   ]
  },
  {
   "cell_type": "code",
   "execution_count": null,
   "id": "78d871d0-eae5-499b-a1cb-168c66c5804c",
   "metadata": {},
   "outputs": [],
   "source": [
    "# Legend used for graph - super manual\n",
    "legend_labels = ['HCl', 'TEAC', 'TFSA', 'TFA'] if not which_data else \\\n",
    "                ['Eu(EH-Mebip)$_{2}$', 'Zn(EH-Mebip)$_{2}$', 'Eu(EH-Mebip)$_{3}$', 'Cu(EH-Mebip)', 'Cu(EH-Mebip)$_{2}$']\n",
    "\n",
    "# Designate grouper (to group titrations according to host or guest)\n",
    "grouper = 'host_name' if not which_data else 'guest_name'"
   ]
  },
  {
   "cell_type": "code",
   "execution_count": null,
   "id": "9f1cffac-b268-4e01-ae55-e40bf13fef04",
   "metadata": {},
   "outputs": [],
   "source": [
    "# Plot data of interest\n",
    "to_plot = df[['g_h', 'host_name', 'guest_name', 'name', 'value', 'rank', 'wl_track']].drop_duplicates()\n",
    "to_plot.loc[:, 'name'] = to_plot.loc[:, 'name'].str.split('_').str[0]\n",
    "to_plot.sort_values(by='name', key=lambda column: column.map(lambda e: exp_names.index(e)), inplace=True) # Sort dataframe according to index provided"
   ]
  },
  {
   "cell_type": "code",
   "execution_count": null,
   "id": "a15a3a3b-2c2e-4e0a-b7dd-9335eb5cd059",
   "metadata": {},
   "outputs": [],
   "source": [
    "# Plot data - both complex and decomplex. Legends have to be adjusted manually\n",
    "for (exp, group) in to_plot.groupby([grouper], as_index=False, sort=False):\n",
    "    \n",
    "    fig, ax = plt.subplots()\n",
    "    \n",
    "    x_label = '[Guest]:[Zn(EH-Mebip)$_{2}$]' if not which_data else '[HCl]:[M(EH-Mebip)$_{x}$]'\n",
    "    ax.set_xlabel(x_label)\n",
    "    ax.set_ylabel(r'$\\Delta\\left(\\frac{A_{MLCT}}{A_{\\pi\\rightarrow\\pi^{*}}}\\right)$', fontsize=20)\n",
    "    ax.spines[['right', 'top']].set_visible(False)\n",
    "\n",
    "    # Adjust accordingly\n",
    "    ax.xaxis.set_major_locator(mpl.ticker.MultipleLocator(1))\n",
    "    ax.xaxis.set_minor_locator(mpl.ticker.AutoMinorLocator(2))\n",
    "    ax.yaxis.set_minor_locator(mpl.ticker.AutoMinorLocator(2))\n",
    "\n",
    "    lnplt = sns.lineplot(group, x=\"g_h\", y=\"value\", hue='name', hue_order=exp_names, ax=ax, palette='viridis', legend=True)\n",
    "\n",
    "    # Legend - manual if legend required :( - You will also have to adjust accordingly\n",
    "    ax.legend(edgecolor='w', framealpha=0)\n",
    "    for text, label in zip(lnplt.legend_.texts, legend_labels):\n",
    "        text.set_text(label)\n",
    "\n",
    "    fig.tight_layout()"
   ]
  },
  {
   "cell_type": "markdown",
   "id": "68fc5859-9c07-4f7d-aa61-f2489ad98e5c",
   "metadata": {},
   "source": [
    "#### Spectral Plots: Each Titration (Takes long to plot)"
   ]
  },
  {
   "cell_type": "code",
   "execution_count": null,
   "id": "46d4c8c4-103e-4d5a-b504-95be7a2245fc",
   "metadata": {},
   "outputs": [],
   "source": [
    "# Plot data of interest\n",
    "to_plot = df[['g_h', 'host_name', 'guest_name', 'name', 'Wavelength nm.', 'Abs.']].drop_duplicates()\n",
    "to_plot.loc[:, 'name'] = to_plot.loc[:, 'name'].str.split('_').str[0]"
   ]
  },
  {
   "cell_type": "code",
   "execution_count": null,
   "id": "c1c433af-74ea-4ec5-822e-a22ada4bbcfa",
   "metadata": {},
   "outputs": [],
   "source": [
    "# Plot each titration with all the spectra (repeats are included on same graph)\n",
    "for (exp, group) in to_plot.groupby(['name', grouper], as_index=False, sort=False):\n",
    "    \n",
    "    # Cut data - only interested between 250 nm and 600 nm\n",
    "    group = group.loc[group['Wavelength nm.'].between(250, 600), :]  \n",
    "    \n",
    "    fig, ax = plt.subplots(1)\n",
    "\n",
    "    ax.spines[['right', 'top']].set_visible(False)\n",
    "    ax.set_xlabel('Wavelength (nm)')\n",
    "    ax.set_ylabel('Absorbance (a.u.)')\n",
    "    ax.xaxis.set_minor_locator(mpl.ticker.AutoMinorLocator(2))\n",
    "    ax.yaxis.set_major_locator(mpl.ticker.MultipleLocator(0.2))\n",
    "    ax.yaxis.set_minor_locator(mpl.ticker.AutoMinorLocator(2))\n",
    "\n",
    "    sns.lineplot(data=group, x=\"Wavelength nm.\", y=\"Abs.\", hue='g_h', palette='flare', ax=ax, legend=True)\n",
    "\n",
    "    fig.tight_layout()"
   ]
  }
 ],
 "metadata": {
  "kernelspec": {
   "display_name": "Python 3 (ipykernel)",
   "language": "python",
   "name": "python3"
  },
  "language_info": {
   "codemirror_mode": {
    "name": "ipython",
    "version": 3
   },
   "file_extension": ".py",
   "mimetype": "text/x-python",
   "name": "python",
   "nbconvert_exporter": "python",
   "pygments_lexer": "ipython3",
   "version": "3.11.9"
  }
 },
 "nbformat": 4,
 "nbformat_minor": 5
}
