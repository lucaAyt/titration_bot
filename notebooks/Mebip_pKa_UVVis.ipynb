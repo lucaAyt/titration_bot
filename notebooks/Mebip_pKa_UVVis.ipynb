{
 "cells": [
  {
   "cell_type": "code",
   "execution_count": null,
   "id": "56a21449",
   "metadata": {},
   "outputs": [],
   "source": [
    "import os\n",
    "import sys\n",
    "\n",
    "sys.path.append(os.path.join('..'))\n",
    "sys.path.append(os.path.join('..', 'src'))\n",
    "sys.path.append(os.path.join('..', 'src', 'libs'))\n",
    "\n",
    "import numpy as np\n",
    "import pandas as pd\n",
    "import matplotlib.pyplot as plt\n",
    "from matplotlib.colors import ListedColormap, LogNorm\n",
    "from matplotlib.ticker import AutoMinorLocator, MultipleLocator\n",
    "from copy import deepcopy\n",
    "import seaborn as sns\n",
    "\n",
    "import hera\n",
    "from libs import parser as parse\n",
    "from libs import titration as titi\n",
    "from libs import util as utl\n",
    "\n",
    "from ami_utils import parse as pa\n",
    "\n",
    "import matplotlib as mpl\n",
    "mpl.rcParams['font.family'] = 'Arial'"
   ]
  },
  {
   "cell_type": "markdown",
   "id": "3e0b8f5e",
   "metadata": {},
   "source": [
    "#### Generate titration params"
   ]
  },
  {
   "cell_type": "code",
   "execution_count": null,
   "id": "e2f8daf5",
   "metadata": {},
   "outputs": [],
   "source": [
    "exp_names = ['LUB096', 'LUB141']\n",
    "# dict_exp_complex = dict(zip(exp_names, ['EH-MebipZn(OTf2)2']))\n",
    "hera.initialize_titrations(exp_names)\n",
    "\n",
    "dict_titrants_exps = hera.dict_titrants_exps.copy()\n",
    "dict_titrations_exps = deepcopy(hera.dict_titrations_exps)\n",
    "\n",
    "dict_titrants_exps"
   ]
  },
  {
   "cell_type": "code",
   "execution_count": null,
   "id": "1706489e-a6d3-45cf-afe9-32b1a6e22dfb",
   "metadata": {},
   "outputs": [],
   "source": [
    "dict_titrants_exps = hera.dict_titrants_exps.copy()\n",
    "dict_titrations_exps = deepcopy(hera.dict_titrations_exps)\n",
    "dict_titrants_exps"
   ]
  },
  {
   "cell_type": "code",
   "execution_count": null,
   "id": "fb2d9385",
   "metadata": {},
   "outputs": [],
   "source": [
    "for k, v in dict_titrations_exps.items():\n",
    "    print(f'\\n\\n{k}:\\n')\n",
    "    for t in v[0]:\n",
    "        print(t.df_params)"
   ]
  },
  {
   "cell_type": "code",
   "execution_count": null,
   "id": "5b3941b8-f026-489c-9bfa-105b054cc6ee",
   "metadata": {},
   "outputs": [],
   "source": [
    "dict_titrations_exps['LUB096'][0][0].df_params.host_conc.iloc[0]*1e6"
   ]
  },
  {
   "cell_type": "code",
   "execution_count": null,
   "id": "40a5d7e6",
   "metadata": {},
   "outputs": [],
   "source": [
    "#TODO: Check parser get the first line of text file.\n",
    "\n",
    "exps_reps = parse.get_exp_reps(exp_names)\n",
    "data = pa.get_data(pa.path_constructor('uv', *exps_reps), 'uv')\n",
    "# data = parse.get_data(exps_reps)\n",
    "data"
   ]
  },
  {
   "cell_type": "code",
   "execution_count": null,
   "id": "331e5b1e",
   "metadata": {},
   "outputs": [],
   "source": [
    "# lub014_df = data.get('LUB014').drop(columns=['70', 'glasspip'])\n",
    "data = data[~data.titrant.str.contains('mecn')]\n",
    "data"
   ]
  },
  {
   "cell_type": "code",
   "execution_count": null,
   "id": "85621414-4f47-4949-af89-dadd92165553",
   "metadata": {},
   "outputs": [],
   "source": [
    "new_data = utl.merge_data_titration_params(data, dict_titrations_exps)\n",
    "new_data"
   ]
  },
  {
   "cell_type": "code",
   "execution_count": null,
   "id": "3e4bd72e-f9d7-4b4e-aa9c-b0b907f2384b",
   "metadata": {},
   "outputs": [],
   "source": [
    "mebip_df = new_data[new_data.name == 'LUB096']\n",
    "mbp_df = new_data[new_data.name == 'LUB141']\n",
    "\n",
    "print(mebip_df.loc[mebip_df.loc[mebip_df['Wavelength nm.'] >= 250, 'Abs.'].idxmax(), 'Wavelength nm.'])\n",
    "print(mbp_df.loc[mbp_df.loc[mbp_df['Wavelength nm.'] >= 250, 'Abs.'].idxmax(), 'Wavelength nm.'])"
   ]
  },
  {
   "cell_type": "markdown",
   "id": "27b5a6fd-87dc-4073-a5da-9f243a838b58",
   "metadata": {},
   "source": [
    "#### Generate peak tracking data"
   ]
  },
  {
   "cell_type": "code",
   "execution_count": null,
   "id": "fa5696c7-ba0c-4125-b649-979e72d01e4c",
   "metadata": {},
   "outputs": [],
   "source": [
    "dict_df = utl.tracking_df(new_data, ['max'], exps_reps, complex_tit=False)\n",
    "dict_df"
   ]
  },
  {
   "cell_type": "code",
   "execution_count": null,
   "id": "399db3de-5778-4a24-8ae1-eb329e8f9f6d",
   "metadata": {},
   "outputs": [],
   "source": [
    "df = utl.combine_track_data(new_data, dict_df)\n",
    "df"
   ]
  },
  {
   "cell_type": "code",
   "execution_count": null,
   "id": "d0269a39-b259-4c2c-bc91-21de4708ec50",
   "metadata": {},
   "outputs": [],
   "source": [
    "df.loc[df.name == 'LUB141'].g_h.unique()[[10]]"
   ]
  },
  {
   "cell_type": "markdown",
   "id": "e048fc4a-8ed2-46e0-9922-21ed992e646c",
   "metadata": {},
   "source": [
    "### Visualise data"
   ]
  },
  {
   "cell_type": "markdown",
   "id": "4d06969b-468c-4b9a-aaa7-dbbb002cfe11",
   "metadata": {},
   "source": [
    "#### Acid Relationship"
   ]
  },
  {
   "cell_type": "markdown",
   "id": "26ade827-bb65-4213-87ce-2e6235ab7166",
   "metadata": {},
   "source": [
    "##### Line graph"
   ]
  },
  {
   "cell_type": "code",
   "execution_count": null,
   "id": "f2e9629f-021f-4e19-9671-6f70ac87cd9f",
   "metadata": {},
   "outputs": [],
   "source": [
    "# Legend used for graph - super manuel\n",
    "\n",
    "legend_labels = ['EH-MEBIP', 'EH-MBP']\n",
    "\n",
    "# Designate grouper (to group titrations according to host or guest)\n",
    "grouper = 'host_name'"
   ]
  },
  {
   "cell_type": "code",
   "execution_count": null,
   "id": "75a9f1dc-8808-418b-a0ac-ae371de47b1e",
   "metadata": {},
   "outputs": [],
   "source": [
    "print(sns.color_palette(\"muted\").as_hex())"
   ]
  },
  {
   "cell_type": "code",
   "execution_count": null,
   "id": "815cd59c-7835-4948-9be3-cfa5c4ad4d79",
   "metadata": {},
   "outputs": [],
   "source": [
    "print(sns.color_palette(\"deep\").as_hex())"
   ]
  },
  {
   "cell_type": "code",
   "execution_count": null,
   "id": "81be84f2-f617-4889-b1c8-6e6a57ea1521",
   "metadata": {},
   "outputs": [],
   "source": [
    "# Plot in seperate figures\n",
    "%matplotlib qt\n",
    "# BG_WHITE = \"#fafaf5\"\n",
    "with sns.plotting_context(\"paper\", font_scale=1.75, \n",
    "                          rc={\n",
    "                              \"lines.linewidth\": 2, 'lines.markersize': 8, 'patch.linewidth': 1.825\n",
    "                          }):\n",
    "    \n",
    "    # Set colors for graph\n",
    "    PalSet = sns.color_palette('muted', len(df.name.unique()))\n",
    "    m_colors = PalSet.as_hex()\n",
    "    m_colors = ['#439088']\n",
    "    \n",
    "    # Plot data of interest\n",
    "    to_plot=df[['g_h', 'host_name', 'guest_name', 'name', 'value', 'rank']].drop_duplicates()\n",
    "    to_plot.loc[:, 'name'] = to_plot.loc[:, 'name'].str.split('_').str[0]\n",
    "\n",
    "    for (exp, group) in to_plot.groupby([grouper], as_index=False, sort=False):\n",
    "        \n",
    "        fig, ax = plt.subplots(1) # Set a size once deteremined !\n",
    "        \n",
    "        # Background colours\n",
    "        # fig.patch.set_facecolor(BG_WHITE)\n",
    "        # ax.set_facecolor(BG_WHITE)\n",
    "        \n",
    "        # Border and grid params\n",
    "        ax.spines[['right', 'top']].set_visible(False)\n",
    "        \n",
    "        # axis params\n",
    "        ax.set_xlabel(f'[HCl]:[{group[grouper].unique()[0]}]')\n",
    "        ax.set_ylabel(r'${\\Delta}A_{\\pi\\rightarrow\\pi^{*}}$')\n",
    "        ax.xaxis.set_major_locator(MultipleLocator(0.5))\n",
    "        ax.xaxis.set_minor_locator(AutoMinorLocator(2))\n",
    "        ax.yaxis.set_minor_locator(AutoMinorLocator(2))\n",
    "        \n",
    "        \n",
    "        # data and seaborn plot\n",
    "        group.value = (group.value - group.value.min())/(group.value.max() - group.value.min())\n",
    "        # lnplt = sns.lineplot(group, x=\"g_h\", y=\"value\", hue='name', ax=ax, palette='deep', legend=False)\n",
    "        lnplt = sns.lineplot(group, x=\"g_h\", y=\"value\", hue='name', ax=ax, palette=m_colors, legend=False)\n",
    "        \n",
    "        # Legend - manual if legend required :(\n",
    "        # new_title = 'Ligand'\n",
    "        # ax.legend(edgecolor='none')\n",
    "        # lnplt.legend_.set_title(new_title)\n",
    "        \n",
    "        # # Replace labels\n",
    "        # for text, label in zip(lnplt.legend_.texts, legend_labels):\n",
    "        #     print(label)\n",
    "        #     text.set_text(f'{group[grouper].unique()[0].upper()}')\n",
    "        \n",
    "        # Scatter plot for hollow spheres - matplotlib\n",
    "        for (exp, group), col in zip(group.groupby(['name', 'guest_name', 'rank'], as_index=False), m_colors):\n",
    "            group_mean = group.groupby('g_h', as_index=False).agg({'value':'mean'})\n",
    "            ax.plot(group_mean.g_h, group_mean.value, 'o', markerfacecolor='None', markeredgewidth=2, markersize=9, markeredgecolor='#55a868', \n",
    "                    alpha=0.7, label=exp, lw=2)\n",
    "            \n",
    "            # Plot the infliction points as red dots\n",
    "            # red_dot = group_mean.iloc[[8, 21]]\n",
    "            red_dot = group_mean.iloc[[10]]\n",
    "            ax.plot(red_dot.g_h.values, red_dot.value.values ,'o', markerfacecolor='None', markeredgewidth=2, markersize=9, markeredgecolor='#e8000b',\n",
    "                    alpha=1)\n",
    "\n",
    "        fig.tight_layout()"
   ]
  },
  {
   "cell_type": "markdown",
   "id": "32f06db4-10a0-4b35-b8a6-f652ad314353",
   "metadata": {},
   "source": [
    "##### Spectra"
   ]
  },
  {
   "cell_type": "code",
   "execution_count": null,
   "id": "bcab9577-4025-43b8-9a30-fc22517c34ce",
   "metadata": {},
   "outputs": [],
   "source": [
    "%matplotlib qt\n",
    "# Plots each titration individually\n",
    "# Arange data and group plus plot\n",
    "\n",
    "# TODO: Change pallete, remove legend\n",
    "to_plot=df[['g_h', 'host_name', 'guest_name', 'name', 'Wavelength nm.', 'Abs.']].drop_duplicates()\n",
    "to_plot.loc[:, 'name'] = to_plot.loc[:, 'name'].str.split('_').str[0]\n",
    "\n",
    "with sns.plotting_context(\"paper\", font_scale=1.75,\n",
    "                          rc={\n",
    "                              \"lines.linewidth\": 1.75, 'lines.markersize': 6.5, 'patch.linewidth': 1.35\n",
    "                          }):\n",
    "\n",
    "    for (exp, group) in to_plot.groupby([grouper], as_index=False, sort=False):\n",
    "        fig, ax = plt.subplots(1) # Set a size once deteremined !\n",
    "        print(group.loc[group['Wavelength nm.'].between(250, 425)])\n",
    "\n",
    "        # Background colours\n",
    "        # BG_WHITE = \"#fafaf5\"\n",
    "        # fig.patch.set_facecolor(BG_WHITE)\n",
    "        # ax.set_facecolor(BG_WHITE)\n",
    "        \n",
    "        # Border and grid params\n",
    "        ax.spines[['right', 'top']].set_visible(False)\n",
    "        # ax.spines[['bottom']].set_linewidth(2)\n",
    "        # ax.set_axisbelow(True)\n",
    "        # ax.grid(axis='y', linestyle=':', lw=1, color='grey')\n",
    "    \n",
    "        # axis params\n",
    "        ax.set_xlabel('Wavelength (nm)')\n",
    "        ax.set_ylabel('Absorbance (a.u.)')\n",
    "        # ax.tick_params(length=4, axis='x')\n",
    "        # ax.tick_params(axis='y',length=0)\n",
    "        ax.xaxis.set_minor_locator(AutoMinorLocator(2))\n",
    "        ax.yaxis.set_minor_locator(AutoMinorLocator(2))\n",
    "        \n",
    "        # Plot data\n",
    "        sns.lineplot(data=group.loc[group['Wavelength nm.'].between(250, 425)], x=\"Wavelength nm.\", y=\"Abs.\", hue='g_h', palette='flare', \n",
    "                     legend=False, ax=ax)\n",
    "\n",
    "        # Colourbar \n",
    "        norm = plt.Normalize(group.g_h.min(), group.g_h.max())\n",
    "        sm = plt.cm.ScalarMappable(cmap='flare', norm=norm)\n",
    "        cbar = fig.colorbar(sm, shrink=0.7, cax=ax.inset_axes((0.85, 0.125, 0.025, 0.75)))\n",
    "        cbar.ax.set_title('HCl eq.')\n",
    "        \n",
    "        fig.tight_layout()"
   ]
  },
  {
   "cell_type": "markdown",
   "id": "8a251f73-bbfe-4c4f-b24f-79126a9d61cb",
   "metadata": {},
   "source": [
    "### Animations"
   ]
  },
  {
   "cell_type": "code",
   "execution_count": null,
   "id": "d6188c28-16bb-47f3-b3cb-27d8e6f0da80",
   "metadata": {},
   "outputs": [],
   "source": [
    "import matplotlib.animation as animation"
   ]
  },
  {
   "cell_type": "code",
   "execution_count": null,
   "id": "2e141279-d90a-4015-8479-60fdbfa98898",
   "metadata": {},
   "outputs": [],
   "source": [
    "%matplotlib qt\n",
    "fig, ax = plt.subplots()\n",
    "\n",
    "\n",
    "x = np.linspace(-5, 5, 100)\n",
    "y = 3*np.sin(x)\n",
    "\n",
    "ax.set(xlim=[-5-0.1, 5+0.1], ylim=[yvals.min()-0.2, yvals.max()+0.2])\n",
    "line, = ax.plot([], [], 'k')\n",
    "scatter, = ax.plot([], [], 'ko')\n",
    "print(line)\n",
    "print(scatter)\n",
    "\n",
    "def update(frame):\n",
    "    line.set_data(x[:frame], y[:frame])\n",
    "    scatter.set_data(x[:frame], y[:frame])\n",
    "\n",
    "    return (line, scatter)\n",
    "\n",
    "ani = animation.FuncAnimation(fig=fig, func=update, frames=len(x)+1, interval=80, blit=True)\n",
    "# ani.save(filename=\"ffmpeg_example.mp4\", writer=\"ffmpeg\")\n",
    "plt.show()"
   ]
  },
  {
   "cell_type": "code",
   "execution_count": null,
   "id": "1758e8dd-b6ed-45d2-b834-78e9a20772c4",
   "metadata": {},
   "outputs": [],
   "source": [
    "# Plot data of interest\n",
    "to_plot=df[['g_h', 'host_name', 'guest_name', 'name', 'value', 'rank']].drop_duplicates()\n",
    "to_plot.loc[:, 'name'] = to_plot.loc[:, 'name'].str.split('_').str[0]"
   ]
  },
  {
   "cell_type": "code",
   "execution_count": null,
   "id": "c0218d67-13c7-4fca-bc09-8b41a7c5fdab",
   "metadata": {},
   "outputs": [],
   "source": [
    "# Plot in seperate figures\n",
    "%matplotlib qt\n",
    "# BG_WHITE = \"#fafaf5\"\n",
    "with sns.plotting_context(\"paper\", font_scale=1.75, \n",
    "                          rc={\n",
    "                              \"lines.linewidth\": 2, 'lines.markersize': 8, 'patch.linewidth': 1.825\n",
    "                          }):\n",
    "    \n",
    "    # Set colors for graph\n",
    "    PalSet = sns.color_palette('muted', len(df.name.unique()))\n",
    "    m_colors = PalSet.as_hex()\n",
    "\n",
    "    for (exp, group) in to_plot.groupby([grouper], as_index=False, sort=False):\n",
    "        \n",
    "        fig, ax = plt.subplots(1) # Set a size once deteremined !\n",
    "        \n",
    "        # Border and grid params\n",
    "        ax.spines[['right', 'top']].set_visible(False)\n",
    "        \n",
    "        # axis params\n",
    "        ax.set_xlabel(f'[HCl]:[{group[grouper].unique()[0]}]')\n",
    "        ax.set_ylabel(r'${\\Delta}A_{\\pi\\rightarrow\\pi^{*}}$')\n",
    "        ax.xaxis.set_major_locator(MultipleLocator(0.5))\n",
    "        ax.xaxis.set_minor_locator(AutoMinorLocator(2))\n",
    "        ax.yaxis.set_minor_locator(AutoMinorLocator(2))\n",
    "\n",
    "        # Norm data\n",
    "        group.value = (group.value - group.value.min())/(group.value.max() - group.value.min())\n",
    "        for (exp, group), col in zip(group.groupby(['name', 'guest_name', 'rank'], as_index=False), m_colors):\n",
    "            group_mean = group.groupby('g_h', as_index=False).agg({'value':'mean'})\n",
    "            x, y = [group_mean.g_h.values, group_mean.value.values]\n",
    "            red_dots = group_mean.iloc[[8, 21]].values\n",
    "            print(red_dots)\n",
    "        \n",
    "            print(x)\n",
    "            ax.set(xlim=[x.min()-0.1, x.max()+0.1], ylim=[y.min()-0.2, y.max()+0.2])\n",
    "            # line, = ax.plot([], [], 'k')\n",
    "            scatter, = ax.plot([], [], 'o', markerfacecolor='None', markeredgewidth=2, markersize=9, markeredgecolor=col, \n",
    "                              alpha=0.7, lw=2)\n",
    "            scatter2, = ax.plot([], [] ,'o', markerfacecolor='None', markeredgewidth=2, markersize=9, markeredgecolor='#e8000b',\n",
    "                                alpha=1)\n",
    "    \n",
    "            \n",
    "            # lnplt = sns.lineplot(group, x=\"g_h\", y=\"value\", hue='name', ax=ax, palette='deep', legend=False)\n",
    "    \n",
    "            def update(frame):\n",
    "                line.set_data(x[:frame], y[:frame])\n",
    "                scatter.set_data(x[:frame], y[:frame])\n",
    "                if frame >= 8:\n",
    "                    scatter2.set_data(x[8], y[8])\n",
    "                if frame >= 21:\n",
    "                    scatter2.set_data(x[21], y[21])\n",
    "    \n",
    "                return (line, scatter, scatter2)\n",
    "            \n",
    "            print(len(x))\n",
    "            ani = animation.FuncAnimation(fig=fig, func=update, frames=len(x)+1, interval=80, blit=True)\n",
    "            # ani.save(filename=\"ffmpeg_example.mp4\", writer=\"ffmpeg\")\n",
    "            plt.show()\n",
    "\n",
    "        fig.tight_layout()"
   ]
  },
  {
   "cell_type": "code",
   "execution_count": null,
   "id": "81d7a113-fbe8-4468-a349-7b9c146178a9",
   "metadata": {},
   "outputs": [],
   "source": [
    "%matplotlib qt\n",
    "# run the animation\n",
    "ani = animation.FuncAnimation(fig, animate, frames=20, interval=500, repeat=False)\n",
    "ani.save(filename=\"ffmpeg_example.mp4\", writer=\"ffmpeg\")\n",
    "\n",
    "plt.show()"
   ]
  },
  {
   "cell_type": "markdown",
   "id": "7e77c756-5597-4d5c-947a-e7540c25db27",
   "metadata": {},
   "source": [
    "### Signal decomposition"
   ]
  },
  {
   "cell_type": "code",
   "execution_count": null,
   "id": "327a478b-9abd-4d0d-beb5-328214519e7e",
   "metadata": {},
   "outputs": [],
   "source": [
    "from sklearn.decomposition import PCA\n",
    "from sklearn.decomposition import NMF\n",
    "from sklearn.preprocessing import MinMaxScaler"
   ]
  },
  {
   "cell_type": "code",
   "execution_count": null,
   "id": "19978fef-fd87-4c8f-a85a-055bd4ed3c01",
   "metadata": {},
   "outputs": [],
   "source": [
    "df_lub096 = df.pivot(index='Wavelength nm.', columns=['name', 'g_h'], values='Abs.').loc[250:]['LUB096']\n",
    "df_lub141 = df.pivot(index='Wavelength nm.', columns=['name', 'g_h'], values='Abs.').loc[250:]['LUB141']\n",
    "\n",
    "# X = df_lub096.values.T\n",
    "X = df_lub141.values.T"
   ]
  },
  {
   "cell_type": "markdown",
   "id": "c5634bc0-8daf-472f-b955-454d16a4ef60",
   "metadata": {},
   "source": [
    "#### PCA"
   ]
  },
  {
   "cell_type": "code",
   "execution_count": null,
   "id": "574d9a29-6ca0-408b-9250-8b21a8e8c88e",
   "metadata": {},
   "outputs": [],
   "source": [
    "# Perform PCA\n",
    "pca = PCA(n_components=1)\n",
    "pca.fit(X)\n",
    "X_red = pca.transform(X)\n",
    "X_reconstruct = pca.inverse_transform(X_red)\n",
    "\n",
    "print(f'Explained variance:\\n{pca.explained_variance_ratio_}')"
   ]
  },
  {
   "cell_type": "code",
   "execution_count": null,
   "id": "4239f323-1c69-422f-9e3c-4b45419130c1",
   "metadata": {},
   "outputs": [],
   "source": [
    "# Plot results\n",
    "\n",
    "plt.plot(df_lub141.index, pca.components_[:5].T)\n",
    "plt.title('Components')\n",
    "plt.legend(['PC1', 'PC2'])\n",
    "plt.xlabel('Wavelength')\n",
    "plt.ylabel('Absorbance')\n",
    "plt.figure()\n",
    "plt.title('Components_Transformed')\n",
    "plt.ylabel('Absorbance')\n",
    "plt.xlabel('Time (min)')\n",
    "plt.plot(df_lub141.columns.astype(float), X_red, '.')\n",
    "plt.legend(['PC1', 'PC2'])\n",
    "plt.figure()\n",
    "plt.title(f'Reconstruction from first PCA (97 % varaince explained)')\n",
    "plt.plot(df_lub141.index, X_reconstruct.T)"
   ]
  },
  {
   "cell_type": "markdown",
   "id": "dac13979-623c-45f4-8853-65dcf201f6e3",
   "metadata": {},
   "source": [
    "#### NMF"
   ]
  },
  {
   "cell_type": "code",
   "execution_count": null,
   "id": "45ac0868-7c5c-46e1-9f03-4df1a8ed5c41",
   "metadata": {},
   "outputs": [],
   "source": [
    "from sklearn.decomposition import NMF\n",
    "from sklearn.preprocessing import MinMaxScaler"
   ]
  },
  {
   "cell_type": "code",
   "execution_count": null,
   "id": "9fdcdad9-2398-4a0f-b7e9-1c8a68e22c89",
   "metadata": {},
   "outputs": [],
   "source": [
    "# MinMax to avoid negative values\n",
    "\n",
    "X_mm = MinMaxScaler().fit_transform(X.T).T\n",
    "\n",
    "# Perfrom NMF\n",
    "nmf  = NMF(n_components=1)\n",
    "nmf.fit(X_mm)\n",
    "W = nmf.transform(X_mm)\n",
    "H = nmf.components_\n",
    "X_reconstruct = nmf.inverse_transform(W)"
   ]
  },
  {
   "cell_type": "code",
   "execution_count": null,
   "id": "7183b5c0-d506-45ee-b348-969903efab7a",
   "metadata": {},
   "outputs": [],
   "source": [
    "nmf.reconstruction_err_"
   ]
  },
  {
   "cell_type": "code",
   "execution_count": null,
   "id": "eb1cbc0a-3e85-44f7-88d6-6d3582af7b89",
   "metadata": {},
   "outputs": [],
   "source": [
    "# Plot results\n",
    "\n",
    "plt.plot(df_lub141.index, H.T)\n",
    "plt.title('Components')\n",
    "plt.legend(['1', '2'])\n",
    "plt.xlabel('Wavelegnth')\n",
    "plt.ylabel('Absorbance')\n",
    "plt.figure()\n",
    "plt.plot(df_lub141.columns.astype(float), W, '.')\n",
    "plt.title('Components_Transformed')\n",
    "plt.ylabel('Absorbance')\n",
    "plt.xlabel('Time (min)')\n",
    "plt.legend(['1', '2'])\n",
    "plt.figure()\n",
    "plt.title(f'Reconstruction from two NMF components (0.98 reconstruction error)')\n",
    "plt.plot(df_lub141.index, X_reconstruct.T)"
   ]
  },
  {
   "cell_type": "code",
   "execution_count": null,
   "id": "1aa74899-0ffb-4e11-b830-93e551f6516e",
   "metadata": {},
   "outputs": [],
   "source": []
  }
 ],
 "metadata": {
  "kernelspec": {
   "display_name": "Python 3 (ipykernel)",
   "language": "python",
   "name": "python3"
  },
  "language_info": {
   "codemirror_mode": {
    "name": "ipython",
    "version": 3
   },
   "file_extension": ".py",
   "mimetype": "text/x-python",
   "name": "python",
   "nbconvert_exporter": "python",
   "pygments_lexer": "ipython3",
   "version": "3.11.9"
  }
 },
 "nbformat": 4,
 "nbformat_minor": 5
}
